{
 "cells": [
  {
   "cell_type": "markdown",
   "metadata": {},
   "source": [
    "# <center>Deepseek企业级Agent项目开发实战</center>"
   ]
  },
  {
   "cell_type": "markdown",
   "metadata": {},
   "source": [
    "## <center>Part 1. GraphRAG基础概念入门与 MicroSoft GraphRAG 本地部署 </center>"
   ]
  },
  {
   "cell_type": "markdown",
   "metadata": {},
   "source": [
    "&emsp;&emsp;大模型应用落地亟需解决的核心问题有一个是：<font color=\"red\">**如何与私域数据交互**</font>。私域数据主要的问题是：需要有效地将企业数据整合进大语言模型中。由于大模型的上下文处理能力有限，一次性把太多的数据给到大模型是不现实的，所以必须精准的选择出哪些数据在当前对话上下文中是有效的。\n",
    "\n",
    "&emsp;&emsp;一个大模型问答系统是否能成功地商业化落地，在很大程度上取决于如何适配复杂的市场环境。大模型的核心优势在于其内容生成的多样性和创新性，但这同样也是其最大的问题，因为大模型生成的内容是不可控的，尤其是在金融和医疗领域等领域，一次金额评估的错误，一次医疗诊断的失误，哪怕只出现一次都是致命的。此外，大模型有时也会输出看似合理但实则错误的信息，这对于非专业人士来说可能难以辨识，但从专业角度来看却存在着不小的问题。这些都是大模型当前面临的挑战，而且目前还没有能够百分之百解决这种情况的方案。"
   ]
  },
  {
   "cell_type": "markdown",
   "metadata": {},
   "source": [
    "&emsp;&emsp;通过人们不断地对大模型领域的探索，非常多的研究结果能够证明：<font color=\"red\">**当为大模型提供一定的上下文信息后，其输出会变得更稳定**</font>。因此，将知识库中的信息或掌握的信息先输送给大模型，再由大模型服务用户，就是大家普遍达成共识的一个结论和方法。传统的对话系统、搜索引擎等核心依赖于检索技术，如果将这一检索过程融入大模型应用的构建中，既可以充分利用大模型在内容生成上的能力，也能通过引入的上下文信息显著约束大模型的输出范围和结果，同时还实现了将私有数据融入大模型中的目的，达到了双赢的效果。"
   ]
  },
  {
   "cell_type": "markdown",
   "metadata": {},
   "source": [
    "&emsp;&emsp;检索增强生成（Retrieval-Augmented Generation）技术是一种结合了检索和生成两个阶段的自然语言处理技术，它由 `Facebook AI` 团队在 2020 年提出。这种方法的核心思想是利用大规模的预训练语言模型生成技术，并结合信息检索的策略，以改善回答的准确性和相关性。其核心流程如下："
   ]
  },
  {
   "cell_type": "markdown",
   "metadata": {},
   "source": [
    "<div align=center><img src=\"https://snowball101.oss-cn-beijing.aliyuncs.com/img/202404101823060.png\" width=100%></div>"
   ]
  },
  {
   "cell_type": "markdown",
   "metadata": {},
   "source": [
    "&emsp;&emsp;`RAG`的实现是包括两个阶段的：检索阶段和生成阶段。在检索阶段，从知识库中找出与问题最相关的知识，为后续的答案生成提供素材。在生成阶段，`RAG`会将检索到的知识内容作为输入，与问题一起输入到语言模型中进行生成。这样，生成的答案不仅考虑了问题的语义信息，还考虑了相关私有数据的内容。"
   ]
  },
  {
   "cell_type": "markdown",
   "metadata": {},
   "source": [
    "&emsp;&emsp;关于基于语义检索的`RAG`技术细节，在我们课程的《大模型RAG技术企业项目实战》中有非常详细的介绍，这里就不再赘述了。感兴趣的小伙伴可以进入专题页进行学习和实践。\n"
   ]
  },
  {
   "cell_type": "markdown",
   "metadata": {},
   "source": [
    "&emsp;&emsp;这里我们先从通俗的角度来理解一下`GraphRAG` 和 传统`RAG` 的区别。如下图所示："
   ]
  },
  {
   "cell_type": "markdown",
   "metadata": {},
   "source": [
    "<div align=center><img src=\"https://muyu20241105.oss-cn-beijing.aliyuncs.com/images/202503061133950.png\" width=70%></div>"
   ]
  },
  {
   "cell_type": "markdown",
   "metadata": {},
   "source": [
    "&emsp;&emsp;基于语义块检索的`RAG`技术，最大的一个问题是很难去检索到全局的信息。比如我们问的问题散落在不同的语义块中，那么基于语义块检索的`RAG`技术就很难去检索到全局的信息。关键词匹配局限就在于如果用户查询“哪些动物吃食物？”，传统方法可能只能检索到“Dog eats Food”或“Cat eats Food”中的一个，而无法同时获取所有相关信息。\n",
    "\n",
    "&emsp;&emsp;图结构的优势就在于：可以在图谱中建立实体之间的关系，从而可以更全面的检索到全局的信息。 如此一来在进行检索时，就可以从图谱中检索到与问题相关的所有信息，从而可以更全面的检索到全局的信息。"
   ]
  },
  {
   "cell_type": "markdown",
   "metadata": {},
   "source": [
    "<div align=center><img src=\"https://muyu20241105.oss-cn-beijing.aliyuncs.com/images/202503061140516.png\" width=80%></div>"
   ]
  },
  {
   "cell_type": "markdown",
   "metadata": {},
   "source": [
    "&emsp;&emsp;这种创新方法是由[NebulaGraph](https://www.nebula-graph.io/)率先提出的概念，所以本质上，`GraphRAG` 技术就是对传统`RAG`技术的一种增强，其目的是将知识图谱与大语言模型结合起来，以增强信息检索和生成能力。与将纯文本文档块发送到大模型不同，`GraphRAG` 还可以向大模型提供结构化实体信息，将实体文本描述与其属性和关系相结合，借助 `GraphRAG`中的每个记录更加丰富的上下文表示，从而提高了特定术语/用户意图的可理解性。"
   ]
  },
  {
   "cell_type": "markdown",
   "metadata": {},
   "source": [
    "&emsp;&emsp;初步理解了`GraphRAG` 的基本形态后，大家需要明确的概念是：`GraphRAG` 是一种技术范式，其目的是将知识图谱与大语言模型结合起来，以增强信息检索和生成能力。在这一技术范式下，衍生出非常多的开源项目、框架或工具会去实现这一流程。比较受欢迎的工具和项目主要如下：\n",
    "<style>\n",
    ".center \n",
    "{\n",
    "  width: auto;\n",
    "  display: table;\n",
    "  margin-left: auto;\n",
    "  margin-right: auto;\n",
    "}\n",
    "</style>\n",
    "\n",
    "<p align=\"center\"><font face=\"黑体\" size=4>热门GraphRAG项目</font></p>\n",
    "<div class=\"center\">\n",
    "\n",
    "| 项目名称          | 描述                                                                 | GitHub链接                                      | 论文链接                                   |\n",
    "|-------------------|----------------------------------------------------------------------|------------------------------------------------|--------------------------------------------|\n",
    "| Microsoft GraphRAG | 一个能够将知识图谱和 RAG 结合起来的数据工作流和转换工具，可以提供数据处理，检索问答能力 | [GitHub](https://github.com/microsoft/graphrag) | [论文](https://arxiv.org/pdf/2404.16130) |\n",
    "| LightRAG          | 一个轻量级的RAG框架，支持图增强文本索引、增量更新算法等，比 Microsoft GraphRAG 更适合个人使用，成本相对较低 | [GitHub](https://github.com/HKUDS/LightRAG)   | [论文](https://arxiv.org/abs/2410.05779v1) |\n",
    "| Fast-GraphRAG     | 更低延迟的GraphRAG实现，动态数据生成和增量更新等，成本约为Microsoft GraphRAG的1/6 | [GitHub](https://github.com/circlemind-ai/fast-graphrag) | -                                          |\n",
    "| RAGFlow           | 基于深度文档理解构建的开源 RAG（Retrieval-Augmented Generation）引擎 | [GitHub](https://github.com/infiniflow/ragflow) | -                                          |\n",
    "| kotaemon          | 集成 GraphRAG 及混合检索等方法的具备本地知识库问答的项目               | [GitHub](https://github.com/Cinnamon/kotaemon) | -                                          |\n",
    "\n",
    "</div>\n"
   ]
  },
  {
   "cell_type": "markdown",
   "metadata": {},
   "source": [
    "&emsp;&emsp;现阶段`Microsoft GraphRAG` 是使用最广泛的`GraphRAG`项目，虽一直被诟病构建成本高，但其在数据处理、检索问答等能力上均表现非常优秀，而且基于其流程构建出来的数据也能非常好的迁移到其他项目中。比如可以直接接入`LangChain`框架构建知识库问答系统，或者直接接入图数据库中做逻辑分离的混合检索等等。\n",
    "\n",
    "&emsp;&emsp;所以大家这里要明确：<font color=\"red\">`Microsoft GraphRAG` 不等于 `GraphRAG` ，仅仅是`GraphRAG`技术范式下的最重要、最常用的一种实现。</font>"
   ]
  },
  {
   "cell_type": "markdown",
   "metadata": {},
   "source": [
    "&emsp;&emsp;从长期来看，大模型开发岗位对`Microsoft GraphRAG` 的掌握程度是首要考察条件，也是我们真正将`GraphRAG`应用于企业需求时必须掌握的框架，所以本课程会以`Microsoft GraphRAG`为核心框架，详细介绍`Microsoft  GraphRAG`的构建流程、数据处理、检索问答及与外部工具集成的完整实战流程。"
   ]
  },
  {
   "cell_type": "markdown",
   "metadata": {},
   "source": [
    "# 1. Micsoft GraphRAG 项目介绍"
   ]
  },
  {
   "cell_type": "markdown",
   "metadata": {},
   "source": [
    "&emsp;&emsp;**GraphRAG** 是微软研究院开发且完全开源的一个结合了知识图谱和`RAG`的框架。开源日期为`2024年4月2日`。除了从始至终专注构建`RAG`的框架和应用场景的`ragflow`项目外，从关注度和社区活跃度上，`Microsoft GraphRAG` 是`GraphRAG`技术范式下最受欢迎的实现。"
   ]
  },
  {
   "cell_type": "markdown",
   "metadata": {},
   "source": [
    "<div align=center><img src=\"https://muyu20241105.oss-cn-beijing.aliyuncs.com/images/202503041635222.png\" width=80%></div>"
   ]
  },
  {
   "cell_type": "markdown",
   "metadata": {},
   "source": [
    "&emsp;&emsp;`Micsoft GraphRAG`项目开源地址为：https://github.com/microsoft/graphrag ， 目前的星标为`23.1K`。截止目前一共发布了21个版本，最新版本为 `v2.0.0`,作为第一个 v2.x版本，相较于 v1.x版本，在数据处理、检索问答等能力上均有所提升，并且配置方法也有了较大变化。"
   ]
  },
  {
   "cell_type": "markdown",
   "metadata": {},
   "source": [
    "<div align=center><img src=\"https://muyu20241105.oss-cn-beijing.aliyuncs.com/images/202503041638316.png\" width=80%></div>"
   ]
  },
  {
   "cell_type": "markdown",
   "metadata": {},
   "source": [
    "&emsp;&emsp;与传统`RAG`的一样（微软官方称之为`Baseline RAG`），`GraphRAG` 的实现过程涉及两个主要阶段：索引（`Indexing`）和查询（`Querying`）。在该框架下其索引的完整流程如下图所示："
   ]
  },
  {
   "cell_type": "markdown",
   "metadata": {},
   "source": [
    "<div align=center><img src=\"https://muyu20241105.oss-cn-beijing.aliyuncs.com/images/202503041644948.png\" width=80%></div>"
   ]
  },
  {
   "cell_type": "markdown",
   "metadata": {},
   "source": [
    "&emsp;&emsp;大家可以看到这个过程其实还是比较复杂的，所以接下来我们就来逐步实现这个流程，并且重点讲解每个环节的实现原理和细节。"
   ]
  },
  {
   "cell_type": "markdown",
   "metadata": {},
   "source": [
    "&emsp;&emsp;首先要清楚的是，`Microsoft GraphRAG` 工具的本质是：假设我们有一些文本数据，想要将这些数据转换为知识图谱，并且希望图谱能够被大模型所理解，以至于大模型在回答问题时能够利用图谱中的信息进行推理，这个过程就完全可以借助`Microsoft GraphRAG` 工具来实现。因此，我们需要学习和关注的就只有以下两个问题：\n",
    "\n",
    "1. Microsoft GraphRAG 的使用方法；\n",
    "2. 如何准备需要检索的文本数据；"
   ]
  },
  {
   "cell_type": "markdown",
   "metadata": {},
   "source": [
    "&emsp;&emsp;我们先来看第一个要解决的问题：如何使用 `Microsoft GraphRAG`。作为一个完全的开源项目，`Microsoft GraphRAG` 提供两种使用方式：\n",
    "\n",
    "1. **`pypi` 安装：** 最简单的使用方式，只需要在终端中借助 `graphrag cli` 即可无需编写任何代码实现`GraphRAG`的构建和检索功能。适合初学者和个人使用。\n",
    "2. **源码安装：** 最灵活的使用方式，可以完全自定义`GraphRAG`的构建流程，高度可扩展性和控制度，适合真实企业级场景开发使用，但对代码能力要求较高。"
   ]
  },
  {
   "cell_type": "markdown",
   "metadata": {},
   "source": [
    "&emsp;&emsp;基于此，我们就由浅入深，依次介绍这两种使用方式以尽可能的匹配不同场景下的需求。首先来看第一种`pypi` 安装和使用方法。"
   ]
  },
  {
   "cell_type": "markdown",
   "metadata": {},
   "source": [
    "# 2. 本地安装`GraphRAG`的`CLI`工具"
   ]
  },
  {
   "cell_type": "markdown",
   "metadata": {},
   "source": [
    "&emsp;&emsp;微软的`graphrag`开源项目库中包含一个`CLI`工具，所谓的`CLI`工具，其实就是命令行工具，通过在终端中输入命令即可实现`GraphRAG`的构建和检索功能。在`Python`中封装一个`CLI`工具，其实并不复杂，只需要在一个普通的`Python`文件中，然后通过`argparse`模块来解析命令行参数即可。比如如下示例：\n",
    "\n",
    "```python\n",
    "    # test_cli.py\n",
    "\n",
    "    import argparse\n",
    "\n",
    "    def main():\n",
    "        # 创建解析器\n",
    "        parser = argparse.ArgumentParser(description=\"一个简单的 CLI 工具示例\")\n",
    "        \n",
    "        # 添加参数\n",
    "        parser.add_argument('--name', type=str, help='你的名字', required=True)\n",
    "        parser.add_argument('--greet', action='store_true', help='是否打印问候语')\n",
    "\n",
    "        # 解析参数\n",
    "        args = parser.parse_args()\n",
    "\n",
    "        # 根据参数执行功能\n",
    "        if args.greet:\n",
    "            print(f\"你好, {args.name}!\")\n",
    "        else:\n",
    "            print(f\"欢迎, {args.name}!\")\n",
    "\n",
    "    if __name__ == \"__main__\":\n",
    "        main()\n",
    "```"
   ]
  },
  {
   "cell_type": "markdown",
   "metadata": {},
   "source": [
    "&emsp;&emsp;然后打开终端，在脚本（test_cli.py）所在目录下输入命令：\n",
    "\n",
    "```bash\n",
    "     python test_cli.py --name muyu --greet\n",
    "```"
   ]
  },
  {
   "cell_type": "markdown",
   "metadata": {},
   "source": [
    "&emsp;&emsp;这个很好理解，`Python`的`argparse`模块可以非常方便的解析命令行参数，然后根据参数执行不同的功能。除此以外，还有像`Click`、`Typer`等模块，也可以非常方便的实现`CLI`工具的构建。 `Microsoft GraphRAG` 的`CLI`工具就是基于 `Typer` 模块实现的。(我们将在接下来的源码安装课程中进行说明，这里大家只需要知道`Microsoft GraphRAG` 的`CLI`工具就是基于 `Typer` 模块实现的即可。)"
   ]
  },
  {
   "cell_type": "markdown",
   "metadata": {},
   "source": [
    "&emsp;&emsp;除此之外，为了能让用户更方便的安装和使用`Microsoft GraphRAG` 的`CLI`工具，微软还提供了一个`pip` 安装包将其发布在`PyPI`上，地址如下：https://pypi.org/project/graphrag/"
   ]
  },
  {
   "cell_type": "markdown",
   "metadata": {},
   "source": [
    "<div align=center><img src=\"https://muyu20241105.oss-cn-beijing.aliyuncs.com/images/202503041730403.png\" width=80%></div>"
   ]
  },
  {
   "cell_type": "markdown",
   "metadata": {},
   "source": [
    "&emsp;&emsp;基于这两点，我们只需要在本地的`Python`环境中安装`graphrag`包，即可借助`graphrag cli`命令行工具来实现`GraphRAG`的构建和检索功能。接下来我们就逐步的来实现这个流程。"
   ]
  },
  {
   "cell_type": "markdown",
   "metadata": {},
   "source": [
    "&emsp;&emsp;这里我们以`Linux`系统为例进行流程的实操。（建议大家使用`Linux`系统进行实操，如果使用`Windows`系统，则直接在`Windows`的`CMD（命令提示符）`中执行命令即可。）"
   ]
  },
  {
   "cell_type": "markdown",
   "metadata": {},
   "source": [
    "- **Step 1. Python 环境安装及版本要求**\n",
    "\n",
    "&emsp;&emsp;使用 `Microsoft GraphRAG` 的`CLI`，官方建议的`Python`版本在`3.10 ~ 3.12`之间，所以大家需要先确保当前开发环境中已经安装了`Python`，并且版本在`3.10 ~ 3.12`之间。这里我们以`Python`的`Anaconda`版本为例进行安装。首先检查系统是否安装了`anaconda`，执行命令如下：\n",
    "\n",
    "```bash\n",
    "    conda --version\n",
    "```"
   ]
  },
  {
   "cell_type": "markdown",
   "metadata": {},
   "source": [
    "<div align=center><img src=\"https://muyu20241105.oss-cn-beijing.aliyuncs.com/images/202503041815545.png\" width=80%></div>"
   ]
  },
  {
   "cell_type": "markdown",
   "metadata": {},
   "source": [
    "&emsp;&emsp;如果系统中没有安装`anaconda`，可以根据自己实际使用的操作系统，选择`Ch1_Ubuntu_22.04配置Python环境`或者`Ch2_Windows配置Python环境`进行安装。\n"
   ]
  },
  {
   "cell_type": "markdown",
   "metadata": {},
   "source": [
    "&emsp;&emsp;同时，建议大家在实操前通过如下命令更新`conda` 包的版本，执行命令如下：\n",
    "\n",
    "```bash\n",
    "    conda update conda\n",
    "```"
   ]
  },
  {
   "cell_type": "markdown",
   "metadata": {},
   "source": [
    "<div align=center><img src=\"https://muyu20241105.oss-cn-beijing.aliyuncs.com/images/202503041815546.png\" width=80%></div>"
   ]
  },
  {
   "cell_type": "markdown",
   "metadata": {
    "vscode": {
     "languageId": "plaintext"
    }
   },
   "source": [
    "- **Step 2. 使用 conda 创建指定 Python 版本的虚拟环境**"
   ]
  },
  {
   "cell_type": "markdown",
   "metadata": {
    "vscode": {
     "languageId": "plaintext"
    }
   },
   "source": [
    "&emsp;&emsp;`conda`包版本管理工具的好处就是可以在创建虚拟环境时，指定`Python`版本。所以接下来我们就可以创建一个指定`Python`版本的虚拟环境，并安装`Microsoft GraphRAG` 的`CLI`工具。执行命令如下：\n",
    "\n",
    "```bash\n",
    "    conda create -name graphrag python=3.11 -y\n",
    "```\n",
    "&emsp;&emsp;这里的 `--name` 参数用于指定虚拟环境的名称，`python=3.11` 参数用于指定`Python`版本。"
   ]
  },
  {
   "cell_type": "markdown",
   "metadata": {},
   "source": [
    "<div align=center><img src=\"https://muyu20241105.oss-cn-beijing.aliyuncs.com/images/202503041623140.png\" width=80%></div>"
   ]
  },
  {
   "cell_type": "markdown",
   "metadata": {},
   "source": [
    "&emsp;&emsp;创建虚拟环境后，需要进入到虚拟环境中，执行命令如下：\n",
    "\n",
    "```bash\n",
    "    conda activate graphrag\n",
    "```"
   ]
  },
  {
   "cell_type": "markdown",
   "metadata": {},
   "source": [
    "<div align=center><img src=\"https://muyu20241105.oss-cn-beijing.aliyuncs.com/images/202503041623141.png\" width=80%></div>"
   ]
  },
  {
   "cell_type": "markdown",
   "metadata": {},
   "source": [
    "- **Step 3. 安装`Microsoft GraphRAG` 的`CLI`工具**\n",
    "\n",
    "&emsp;&emsp;进入到虚拟环境后，接下来我们就可以安装`Microsoft GraphRAG` 的`CLI`工具了。执行命令如下：\n",
    "\n",
    "```bash\n",
    "    pip install graphrag\n",
    "```\n"
   ]
  },
  {
   "cell_type": "markdown",
   "metadata": {},
   "source": [
    "<div align=center><img src=\"https://muyu20241105.oss-cn-beijing.aliyuncs.com/images/202503041623142.png\" width=80%></div>"
   ]
  },
  {
   "cell_type": "markdown",
   "metadata": {},
   "source": [
    "- **Step 4. 验证`Microsoft GraphRAG` 的`CLI`工具是否安装成功**\n",
    "\n",
    "&emsp;&emsp;安装完成后，接下来我们就可以验证`Microsoft GraphRAG` 的`CLI`工具是否安装成功了。执行命令如下：\n",
    "\n",
    "```bash\n",
    "    pip show graphrag\n",
    "```"
   ]
  },
  {
   "cell_type": "markdown",
   "metadata": {},
   "source": [
    "<div align=center><img src=\"https://muyu20241105.oss-cn-beijing.aliyuncs.com/images/202503041623143.png\" width=80%></div>"
   ]
  },
  {
   "cell_type": "markdown",
   "metadata": {},
   "source": [
    "&emsp;&emsp;可以看到这里我们安装的`Microsoft GraphRAG` 的`CLI`工具版本为`2.0.0`。"
   ]
  },
  {
   "cell_type": "markdown",
   "metadata": {},
   "source": [
    "- **Step 5. 使用`Microsoft GraphRAG` 的`CLI`基本使用方法**\n",
    "\n",
    "&emsp;&emsp;作为命令行工具，一定是涉及到一些命令参数的，这可以通过`graphrag --help` 命令来查看。执行命令如下：\n",
    "\n",
    "```bash\n",
    "    graphrag --help\n",
    "```\n"
   ]
  },
  {
   "cell_type": "markdown",
   "metadata": {},
   "source": [
    "<div align=center><img src=\"https://muyu20241105.oss-cn-beijing.aliyuncs.com/images/202503041623144.png\" width=80%></div>"
   ]
  },
  {
   "cell_type": "markdown",
   "metadata": {},
   "source": [
    "&emsp;&emsp;通过`graphrag --help` 命令返回的参数信息主要设计的就是`GraphRAG`的构建和检索功能，具体来看：\n",
    "\n",
    "- init: 初始化`GraphRAG` 的配置文件；\n",
    "- index: 构建`GraphRAG` 索引，即`Indexing`过程；\n",
    "- query: 检索`GraphRAG` 的查询，即`Querying`过程；\n",
    "- update: 更新`GraphRAG` 的索引，即增量更新；"
   ]
  },
  {
   "cell_type": "markdown",
   "metadata": {},
   "source": [
    "&emsp;&emsp;通过`graphrag --help` 命令返回的参数信息，我们就可以知道`Microsoft GraphRAG` 的`CLI`工具的基本使用方法了。但核心并不在这里，而是在于构建索引或者检索流程中的配置文件参数，这些参数才是真正决定最终效果好坏的关键。因此，接下来我们就借助一个示例文本来详细介绍`GraphRAG` 的索引构建过程中涉及的配置文件参数及优化技巧。"
   ]
  },
  {
   "cell_type": "markdown",
   "metadata": {},
   "source": [
    "# 3. GraphRAG 构建索引完整流程"
   ]
  },
  {
   "cell_type": "markdown",
   "metadata": {},
   "source": [
    "&emsp;&emsp;`GraphRAG`的`Cli`工具可以通过 `graphrag index` 启动构建索引流程，但并无法控制构建索引过程中的技术细节，比如下图所示的`GraphRAG` 构建索引的完整流程："
   ]
  },
  {
   "cell_type": "markdown",
   "metadata": {},
   "source": [
    "<div align=center><img src=\"https://muyu20241105.oss-cn-beijing.aliyuncs.com/images/202503041849610.png\" width=80%></div>"
   ]
  },
  {
   "cell_type": "markdown",
   "metadata": {},
   "source": [
    "&emsp;&emsp;<font color=red>这里大家先不用关心这个流程的实现细节，只需要知道`GraphRAG` 的索引构建流程是非常复杂的，不仅仅涉及到技术的实现，还涉及到大模型、Embedding等模型的选择和接入。我们会在接下来的课程中详细的介绍每一个环节的实现细节。</font>"
   ]
  },
  {
   "cell_type": "markdown",
   "metadata": {},
   "source": [
    "&emsp;&emsp;`GraphRAG` 整个`Indexing`过程可以通过以下简单的方式来理解：\n",
    "\n",
    "1. 类似于 Baseline RAG，将源文档分块为较小的子文档；\n",
    "2. 执行两个并行提取：实体提取用于识别人名、地名、组织名等实体，关系提取：查找不同数据块中实体之间的关系，比如朋友、同事，员工等；\n",
    "3. 创建知识图谱，其中节点表示实体，边表示它们之间的关系，比如张三是李四的朋友， 张三是王五的同事；\n",
    "4. 通过识别密切相关的实体来构建社区；\n",
    "5. 生成不同社区级别的分层摘要；\n",
    "6. 使用 reduce-map 方法通过逐步组合块来创建摘要，直到实现整体概览；"
   ]
  },
  {
   "cell_type": "markdown",
   "metadata": {},
   "source": [
    "&emsp;&emsp;这个过程非常复杂，因此是需要一些配置文件来控制整个流程的。`Microsoft GraphRAG` 实现的是完整的索引构建流程逻辑，但具体到每个环节的一些关键参数，比如：文本分块的大小，实体提取、关系提取的粒度，选择使用的大模型，Embedding模型等，都是需要通过配置文件来控制的。\n",
    "\n",
    "&emsp;&emsp;那么这个配置文件来源于哪里呢？ 其实就是 `graphrag --init` 命令的作用。"
   ]
  },
  {
   "cell_type": "markdown",
   "metadata": {},
   "source": [
    "## 3.1 初始化配置文件"
   ]
  },
  {
   "cell_type": "markdown",
   "metadata": {},
   "source": [
    "&emsp;&emsp;所谓的`graphrag` 初始化，其实就是生成一个默认的配置文件，然后我们就可以根据这个配置文件来控制`GraphRAG` 的索引构建流程。因此，构建索引的第一步，就是先执行`graphrag --init` 命令来生成默认的配置文件。即执行命令如下：\n",
    "\n",
    "```bash\n",
    "    graphrag init --root ./testdata\n",
    "```\n",
    "\n",
    "&emsp;&emsp;其中 `--root` 参数用于指定生成的配置文件的存储路径，`./` 表示当前目录。"
   ]
  },
  {
   "cell_type": "markdown",
   "metadata": {},
   "source": [
    "<div align=center><img src=\"https://muyu20241105.oss-cn-beijing.aliyuncs.com/images/202503041623146.png\" width=80%></div>"
   ]
  },
  {
   "cell_type": "markdown",
   "metadata": {},
   "source": [
    "&emsp;&emsp;当执行`graphrag --init --root ./` 命令后，会生成两个配置文件及一个文件夹，分别是：\n",
    "\n",
    "- **settings.yaml：** 主配置文件，包含 `GraphRAG` 从索引构建到检索的设置；\n",
    "- **.env：** 环境变量文件。里面主要存储的是`API_KEY`密钥等敏感信息，在`settings.yaml`文件中引用；\n",
    "- **prompts/：** 提示词文件夹。它包含 `GraphRAG` 使用的默认提示；"
   ]
  },
  {
   "cell_type": "markdown",
   "metadata": {},
   "source": [
    "<div align=center><img src=\"https://muyu20241105.oss-cn-beijing.aliyuncs.com/images/202503041623152.png\" width=80%></div>"
   ]
  },
  {
   "cell_type": "markdown",
   "metadata": {},
   "source": [
    "&emsp;&emsp;接下来，我们就需要重点的关注这三个配置文件，因为这三个配置文件是唯一我们可以控制`GraphRAG` 索引构建流程的方法。首先看`.env`文件。"
   ]
  },
  {
   "cell_type": "markdown",
   "metadata": {},
   "source": [
    "## 3.2 配置文件基本参数"
   ]
  },
  {
   "cell_type": "markdown",
   "metadata": {},
   "source": [
    "- **.env文件配置说明**"
   ]
  },
  {
   "cell_type": "markdown",
   "metadata": {},
   "source": [
    "&emsp;&emsp;`.env`文件中主要存储的是`API_KEY`密钥等敏感信息，作为环境变量会在`settings.yaml`文件中被引用。默认的`.env`文件中只有一个`GRAPHRA_API_KEY`，用来存储用于`GraphRAG` 构建过程中使用的大模型的有效`API_KEY`。 修改的方法如下：\n"
   ]
  },
  {
   "cell_type": "markdown",
   "metadata": {},
   "source": [
    "&emsp;&emsp;在`Linux`系统中，修改`.env`文件的内容可以使用`vim`命令，执行命令如下：\n",
    "\n",
    "```bash\n",
    "    vim .env\n",
    "```\n"
   ]
  },
  {
   "cell_type": "markdown",
   "metadata": {},
   "source": [
    "<div align=center><img src=\"https://muyu20241105.oss-cn-beijing.aliyuncs.com/images/202503041623149.png\" width=80%></div>"
   ]
  },
  {
   "cell_type": "markdown",
   "metadata": {},
   "source": [
    "&emsp;&emsp;然后输入`i`进入编辑模式，填写`.env`文件中的`GRAPHRA_API_KEY`，这里我们使用`DeepSeek`的`API_KEY`，大家可以根据自己的需求选择不同的模型。"
   ]
  },
  {
   "cell_type": "markdown",
   "metadata": {},
   "source": [
    "<div align=center><img src=\"https://muyu20241105.oss-cn-beijing.aliyuncs.com/images/202503051015777.png\" width=80%></div>"
   ]
  },
  {
   "cell_type": "markdown",
   "metadata": {},
   "source": [
    "&emsp;&emsp;填写完成后按`Esc`键退出编辑模式，输入`:wq`保存并退出即可。"
   ]
  },
  {
   "cell_type": "markdown",
   "metadata": {},
   "source": [
    "- **settings.yaml文件配置说明**\n",
    "\n",
    "&emsp;&emsp;`settings.yaml`文件是`GraphRAG` 的`CLI`工具的主配置文件，里面主要存储的是`GraphRAG` 的索引构建流程的配置信息。默认的`settings.yaml`文件中的配置信息非常多，涉及到了`GraphRAG` 的索引构建`Pipeline`的各个环节中策略的控制，首先我们来看最简配置。即必须修改的参数：\n"
   ]
  },
  {
   "cell_type": "markdown",
   "metadata": {},
   "source": [
    "&emsp;&emsp;同样，我们还是需要用`vim`命令来修改`settings.yaml`文件，执行命令如下：\n",
    "\n",
    "```bash\n",
    "    vim settings.yaml\n",
    "```\n"
   ]
  },
  {
   "cell_type": "markdown",
   "metadata": {},
   "source": [
    "<div align=center><img src=\"https://muyu20241105.oss-cn-beijing.aliyuncs.com/images/202503041623151.png\" width=80%></div>"
   ]
  },
  {
   "cell_type": "markdown",
   "metadata": {},
   "source": [
    "&emsp;&emsp;然后输入`i`进入编辑模式，修改`settings.yaml`文件中的配置信息。这里如下几个配置需要大家根据自己的实际情况进行修改：\n",
    "\n",
    "1. `default_chat_model`：构建`GraphRAG`时使用的文本大模型，其加载的就是`.env`文件中的`GRAPHRA_API_KEY`，比如我们填写的`DeepSeek`的`API_KEY`，那么这里就要根据`deepseek`的`API_KEY`的请求配置来进行修改，其中以下几个参数是必须进行配置，否则流程无法正常进行，具体参数如下："
   ]
  },
  {
   "cell_type": "markdown",
   "metadata": {},
   "source": [
    "<style>\n",
    ".center \n",
    "{\n",
    "  width: auto;\n",
    "  display: table;\n",
    "  margin-left: auto;\n",
    "  margin-right: auto;\n",
    "}\n",
    "</style>\n",
    "\n",
    "<p align=\"center\"><font face=\"黑体\" size=4>基础文本模型配置</font></p>\n",
    "<div class=\"center\">\n",
    "\n",
    "| 参数                | 描述                                               |\n",
    "|---------------------|----------------------------------------------------|\n",
    "| `api_base`          | 请求某个模型调用 `REST API` 的 `Endpoint`。 |\n",
    "| `api_key`           | 作为变量，引用 `.env` 文件中的 `GRAPHRA_API_KEY`。 |\n",
    "| `encodeing_model`   | 设置编码模型。  |\n",
    "| `model`             | 请求某个模型调用 `REST API`对应的模型名称。        |\n",
    "</div>"
   ]
  },
  {
   "cell_type": "markdown",
   "metadata": {},
   "source": [
    "<style>\n",
    ".center \n",
    "{\n",
    "  width: auto;\n",
    "  display: table;\n",
    "  margin-left: auto;\n",
    "  margin-right: auto;\n",
    "}\n",
    "</style>\n",
    "\n",
    "<p align=\"center\"><font face=\"黑体\" size=4>基础Embedding模型配置</font></p>\n",
    "<div class=\"center\">\n",
    "\n",
    "| 参数                | 描述                                               |\n",
    "|---------------------|----------------------------------------------------|\n",
    "| `api_base`          | 请求某个模型调用 `REST API` 的 `Endpoint`。 |\n",
    "| `api_key`           | 有效的请求 `API_KEY`。 |\n",
    "| `encodeing_model`   | 设置编码模型。  |\n",
    "| `model`             | 请求某个模型调用 `REST API`对应的模型名称。        |\n",
    "<div class=\"center\">\n",
    "</div>"
   ]
  },
  {
   "cell_type": "markdown",
   "metadata": {},
   "source": [
    "&emsp;&emsp;这里以`DeepSeek`的`API_KEY`为例，进行配置，具体配置信息如下："
   ]
  },
  {
   "cell_type": "markdown",
   "metadata": {},
   "source": [
    "<div align=center><img src=\"https://muyu20241105.oss-cn-beijing.aliyuncs.com/images/202503051022590.png\" width=80%></div>"
   ]
  },
  {
   "cell_type": "markdown",
   "metadata": {},
   "source": [
    "&emsp;&emsp;关于如何使用`Ollama`启动的本地模型，则一个示例配置如下："
   ]
  },
  {
   "cell_type": "markdown",
   "metadata": {},
   "source": [
    "<div align=center><img src=\"https://muyu20241105.oss-cn-beijing.aliyuncs.com/images/202503051434928.png\" width=80%></div>"
   ]
  },
  {
   "cell_type": "markdown",
   "metadata": {},
   "source": [
    "&emsp;&emsp;最后，我们给出一个整体的模型和`Embedding`模型的配置示例，大家可以根据自己的需求进行灵活组合，如下表所示：\n",
    "\n",
    "<style>\n",
    ".center \n",
    "{\n",
    "  width: auto;\n",
    "  display: table;\n",
    "  margin-left: auto;\n",
    "  margin-right: auto;\n",
    "}\n",
    "</style>\n",
    "\n",
    "<p align=\"center\"><font face=\"黑体\" size=4>文本与Embedding模型配置组合参考</font></p>\n",
    "<div class=\"center\">\n",
    "\n",
    "| 类型                     | .env                                     | settings.yaml                                   |\n",
    "|--------------------------|------------------------------------------|------------------------------------------------|\n",
    "| 在线 API                 | `GRAPHRAG_API_KEY=有效API_KEY`          | `default_chat_model:`                           |\n",
    "|                          |                                          | `  在线模型:`                                   |\n",
    "|                          |                                          | `    api_base: 官方要求的 api_base,`          |\n",
    "|                          |                                          | `    api_key: ${GRAPHRA_API_KEY}`             |\n",
    "|                          |                                          | `    encodeing_model: cl100k_base`            |\n",
    "|                          |                                          | `    model: 官方要求的模型名称` |\n",
    "|                          |                                          | `  本地模型:`                                   |\n",
    "|                          |                                          | `    api_base: http://localhost:11434/v1`     |\n",
    "|                          |                                          | `    api_key: 任意填写`                        |\n",
    "|                          |                                          | `    encodeing_model: cl100k_base`            |\n",
    "|                          |                                          | `    model: ollama 启动的模型名称`             |\n",
    "| Ollama 启动本地模型     | `GRAPHRAG_API_KEY=任意填写`             | `default_embedding_model:`                      |\n",
    "|                          |                                          | `  在线模型:`                                   |\n",
    "|                          |                                          | `    api_base: 官方要求的 api_base`            |\n",
    "|                          |                                          | `    api_key: 官方要求的 api_key`              |\n",
    "|                          |                                          | `    encodeing_model: cl100k_base`            |\n",
    "|                          |                                          | `    model: 官方要求的模型名称` |\n",
    "|                          |                                          | `  本地模型:`                                   |\n",
    "|                          |                                          | `    api_base: http://localhost:11434/v1`     |\n",
    "|                          |                                          | `    api_key: 任意填写`                        |\n",
    "|                          |                                          | `    encodeing_model: cl100k_base`            |\n",
    "|                          |                                          | `    model: ollama 启动的模型名称`             |\n",
    "\n",
    "</div>\n"
   ]
  },
  {
   "cell_type": "markdown",
   "metadata": {},
   "source": [
    "&emsp;&emsp;注意：`ollama` 启动的`Deepseek-r1`系列模型均不支持作为文本模型接入`GraphRAG`，可以尝试使用`Qwen2.5`、`llama3.3`等系列模型。"
   ]
  },
  {
   "cell_type": "markdown",
   "metadata": {},
   "source": [
    "## 3.3 数据准备"
   ]
  },
  {
   "cell_type": "markdown",
   "metadata": {},
   "source": [
    "&emsp;&emsp;`Microsoft GraphRAG` 的索引构建流程中，仅支持 `.txt` 和 `.csv` 两种格式的数据文件，因此如何非这两种格式的数据文件，是无法直接进行索引构建的。加载文件的方法也非常简单，只需要在`graphrag` 初始化配置的同级目录下，新建一个`input`文件夹，然后把`.txt` 或者 `.csv` 文件放入其中即可。在`linux`系统中，执行命令如下：\n",
    "\n",
    "```bash\n",
    "    mkdir input\n",
    "```"
   ]
  },
  {
   "cell_type": "markdown",
   "metadata": {},
   "source": [
    "<div align=center><img src=\"https://muyu20241105.oss-cn-beijing.aliyuncs.com/images/202503041623152.png\" width=80%></div>"
   ]
  },
  {
   "cell_type": "markdown",
   "metadata": {},
   "source": [
    "&emsp;&emsp;这里为了快速测试流程，我构建了一个实体非常丰富的文本文件-`technology_companies.txt`。该文本中包含了大量实体，如公司（苹果、谷歌、微软、亚马逊）、人物（史蒂夫·乔布斯、拉里·佩奇、比尔·盖茨、杰夫·贝索斯）、地点（硅谷、库比蒂诺、门洛帕克、雷德蒙德、西雅图）和技术（iPhone、Android、Azure、AWS），并且描述了实体之间的多种关系，如创始人关系（乔布斯创立苹果）、竞争关系（苹果与谷歌在智能手机领域的竞争）、合作关系（谷歌与苹果在搜索引擎上的合作）。该文本文件已经随课件上传至百度网盘，大家可以直接下载后放入`input`文件夹中，准备进行索引的构建。\n"
   ]
  },
  {
   "cell_type": "markdown",
   "metadata": {},
   "source": [
    "<div align=center><img src=\"https://muyu20241105.oss-cn-beijing.aliyuncs.com/images/202503041623153.png\" width=80%></div>"
   ]
  },
  {
   "cell_type": "markdown",
   "metadata": {},
   "source": [
    "## 3.4 执行索引构建"
   ]
  },
  {
   "cell_type": "markdown",
   "metadata": {},
   "source": [
    "&emsp;&emsp;在配置好了`.env`文件和`settings.yaml`文件后，同时又准备好了数据文件，接下来我们就可以执行索引的构建了。通过`GraphRAG` 的`CLI`工具，执行命令如下：\n",
    "\n",
    "```bash\n",
    "    graphrag index --root ./testdata\n",
    "```\n",
    "\n",
    "&emsp;&emsp;这条命令指的是在当前目录下执行索引的构建。当执行后，会看到`GraphRAG` 的索引构建流程开始执行，具体如下："
   ]
  },
  {
   "cell_type": "markdown",
   "metadata": {},
   "source": [
    "<div align=center><img src=\"https://muyu20241105.oss-cn-beijing.aliyuncs.com/images/202503041623155.png\" width=80%></div>"
   ]
  },
  {
   "cell_type": "markdown",
   "metadata": {},
   "source": [
    "&emsp;&emsp;正常来说，如果对话模型和Embedding模型都配置正确，且数据文件也符合`txt`或者`csv`格式要求，那么构建索引的流程会顺利执行，并最终看到`ALL Workflows Completed Successfully`的提示。"
   ]
  },
  {
   "cell_type": "markdown",
   "metadata": {},
   "source": [
    "<div align=center><img src=\"https://muyu20241105.oss-cn-beijing.aliyuncs.com/images/202503041623156.png\" width=80%></div>"
   ]
  },
  {
   "cell_type": "markdown",
   "metadata": {},
   "source": [
    "&emsp;&emsp;同时，在构建索引结束后会分别生成`cache`、`logs`和`output`三个文件夹，分别存储了构建索引过程中的缓存文件、日志文件和输出文件。"
   ]
  },
  {
   "cell_type": "markdown",
   "metadata": {
    "vscode": {
     "languageId": "plaintext"
    }
   },
   "source": [
    "<div align=center><img src=\"https://muyu20241105.oss-cn-beijing.aliyuncs.com/images/202503051526468.png\" width=80%></div>"
   ]
  },
  {
   "cell_type": "markdown",
   "metadata": {},
   "source": [
    "&emsp;&emsp;其中，`output`文件夹中会生成很多个`xxx.parquet`文件，这些文件就是`GraphRAG` 的索引文件，也是我们后续进行检索的依据。"
   ]
  },
  {
   "cell_type": "markdown",
   "metadata": {},
   "source": [
    "<div align=center><img src=\"https://muyu20241105.oss-cn-beijing.aliyuncs.com/images/202503041623158.png\" width=80%></div>"
   ]
  },
  {
   "cell_type": "markdown",
   "metadata": {},
   "source": [
    "&emsp;&emsp;最后，总结一下`GraphRAG` 的索引构建流程，具体如下：\n",
    "1. 配置Python运行的虚拟环境\n",
    "2. 安装`Microsoft GraphRAG` 的`CLI`工具\n",
    "3. 初始化配置文件\n",
    "4. 配置`.env`文件\n",
    "5. 配置`settings.yaml`文件\n",
    "6. 准备数据文件\n",
    "7. 执行索引构建\n",
    "\n",
    "&emsp;&emsp;这个执行过程并不是很复杂，但需要大家注意的是，在执行索引构建的过程中，会涉及到多次大模型的调用，因此需要大家确保当前的网络环境是通畅的，否则可能会导致索引构建失败。同时，如果大家使用的是`ollama`启动的本地模型，那么需要确保本地模型是正常启动的，否则也会导致索引构建失败。\n",
    "\n",
    "\n",
    "&emsp;&emsp;自然，这样的流程究竟涉及哪些技术细节，又是如何实现的呢？以及生成的这些文件又有什么用处，该如何使用呢？\n",
    "\n",
    "&emsp;&emsp;面对复杂的企业场景，数据多元化、数据量庞大且数据结构复杂，对`Microsoft GraphRAG` 的使用仅仅不能停留在这个层面，因此，了解`Microsoft GraphRAG` 的索引构建流程，以及索引构建的原理，是非常重要的。但是大家要明确的是：通过`Microsoft GraphRAG` 的 `CLI`工具的简单几行命令、`settings.yaml`文件的配置参数肯定是不足以支撑我们了解更多微软是如何实现`GraphRAG` 的流程的。通过`CLI`的工具仅仅适用于较为简单的场景以及初次体验`GraphRAG` 的快速入门。如果大家真正想应用于企业应用以及更加灵活的数据适配，我们真正要花时间来学习的是`Microsoft GraphRAG` 的源码实现。"
   ]
  },
  {
   "cell_type": "markdown",
   "metadata": {},
   "source": [
    "&emsp;&emsp;`Microsoft GraphRAG` 在`Github`做了完全的开源，这就意味着构建索引每一步的实现逻辑都是可以通过源码来了解的。因此，再给大家具体介绍构建索引的内部原理之前，我们先重点介绍更加适合企业和实际开发的使用`Microsoft GraphRAG` 的方法，即源码安装。"
   ]
  },
  {
   "cell_type": "markdown",
   "metadata": {},
   "source": [
    "# 4. Microsoft GraphRAG 源码安装（重要）"
   ]
  },
  {
   "cell_type": "markdown",
   "metadata": {},
   "source": [
    "&emsp;&emsp;`Microsoft GraphRAG` 项目在`Github`做了完全的开源，我们可以通过其开源地址下载完整的源码文件至本地环境运行。开源地址为：https://github.com/microsoft/graphrag"
   ]
  },
  {
   "cell_type": "markdown",
   "metadata": {},
   "source": [
    "<div align=center><img src=\"https://muyu20241105.oss-cn-beijing.aliyuncs.com/images/202503041638316.png\" width=80%></div>"
   ]
  },
  {
   "cell_type": "markdown",
   "metadata": {},
   "source": [
    "## 4.1 源码下载"
   ]
  },
  {
   "cell_type": "markdown",
   "metadata": {},
   "source": [
    "&emsp;&emsp;`Github`的项目可以通过两种方式来下载到本地，一种是直接下载`zip`压缩包，另一种是使用`git`命令来下载。"
   ]
  },
  {
   "cell_type": "markdown",
   "metadata": {},
   "source": [
    "<div align=center><img src=\"https://muyu20241105.oss-cn-beijing.aliyuncs.com/images/202503051659159.png\" width=80%></div>"
   ]
  },
  {
   "cell_type": "markdown",
   "metadata": {},
   "source": [
    "&emsp;&emsp;这里我们选择使用`git`命令来下载，以`Windows`系统为例，鼠标右键打开`Git Bash Here`:"
   ]
  },
  {
   "cell_type": "markdown",
   "metadata": {},
   "source": [
    "<div align=center><img src=\"https://muyu20241105.oss-cn-beijing.aliyuncs.com/images/202503051700812.png\" width=40%></div>"
   ]
  },
  {
   "cell_type": "markdown",
   "metadata": {},
   "source": [
    "&emsp;&emsp;执行命令如下：\n",
    "\n",
    "```bash\n",
    "    git clone https://github.com/microsoft/graphrag.git\n",
    "```"
   ]
  },
  {
   "cell_type": "markdown",
   "metadata": {},
   "source": [
    "<div align=center><img src=\"https://muyu20241105.oss-cn-beijing.aliyuncs.com/images/202503051710424.png\" width=80%></div>"
   ]
  },
  {
   "cell_type": "markdown",
   "metadata": {},
   "source": [
    "&emsp;&emsp;执行命令后，会看到`Github`的项目已经下载到了本地。注意：`Github` 的服务器在国外，如果大家在国内下载，可能会比较慢，甚至会下载失败。如果大家在国内下载，可以直接采用第二种方式，即直接下载`zip`压缩包。"
   ]
  },
  {
   "cell_type": "markdown",
   "metadata": {},
   "source": [
    "<div align=center><img src=\"https://muyu20241105.oss-cn-beijing.aliyuncs.com/images/202503051712118.png\" width=80%></div>"
   ]
  },
  {
   "cell_type": "markdown",
   "metadata": {},
   "source": [
    "&emsp;&emsp;下载完成后，我们直接使用`Python`的`IDE`工具打开`graphrag`项目，准备配置其运行环境。比如`VSCode`、`PyCharm`和`Cursor`等，大家根据自己的使用习惯来进行选择。课程中以`Cursor`为例做演示。"
   ]
  },
  {
   "cell_type": "markdown",
   "metadata": {},
   "source": [
    "<div align=center><img src=\"https://muyu20241105.oss-cn-beijing.aliyuncs.com/images/202503051727304.png\" width=80%></div>"
   ]
  },
  {
   "cell_type": "markdown",
   "metadata": {},
   "source": [
    "## 4.2 配置GraphRAG运行环境\n"
   ]
  },
  {
   "cell_type": "markdown",
   "metadata": {},
   "source": [
    "&emsp;&emsp;打开`graphrag`项目后，同样需要先配置一个`Python`的虚拟环境，然后安装启动该项目程序的所有依赖包。创建虚拟环境方法如下：(无论大家使用的是哪一个`Python`的`IDE`，都找到该`IDE`的`terminal` 执行相关命令)：\n",
    "\n",
    "```bash\n",
    "    python -m venv venv\n",
    "```"
   ]
  },
  {
   "cell_type": "markdown",
   "metadata": {},
   "source": [
    "<div align=center><img src=\"https://muyu20241105.oss-cn-beijing.aliyuncs.com/images/202503051735915.png\" width=80%></div>"
   ]
  },
  {
   "cell_type": "markdown",
   "metadata": {},
   "source": [
    "&emsp;&emsp;执行命令后，可以看到左侧的文件中会出现`venv`文件夹，即`Python`的虚拟环境已经创建成功。接下来进入虚拟环境，执行命令如下：\n",
    "\n",
    "```bash\n",
    "    source venv/bin/activate\n",
    "```\n"
   ]
  },
  {
   "cell_type": "markdown",
   "metadata": {},
   "source": [
    "<div align=center><img src=\"https://muyu20241105.oss-cn-beijing.aliyuncs.com/images/202503051737376.png\" width=80%></div>"
   ]
  },
  {
   "cell_type": "markdown",
   "metadata": {},
   "source": [
    "&emsp;&emsp;接下来安装程序运行的依赖。 `Microsoft GraphRAG` 项目源码启动同样是要求`Python`版本为`3.10` ~ `3.12`，因此大家需要确保当前的`Python`版本是符合要求的。验证方法如下：\n"
   ]
  },
  {
   "cell_type": "markdown",
   "metadata": {},
   "source": [
    "<div align=center><img src=\"https://muyu20241105.oss-cn-beijing.aliyuncs.com/images/202503051744310.png\" width=80%></div>"
   ]
  },
  {
   "cell_type": "markdown",
   "metadata": {},
   "source": [
    "&emsp;&emsp;满足要求后，我们就可以安装程序运行的依赖了。`Microsoft GraphRAG` 项目依赖是通过`poetry`来管理的，因此我们需要先安装`poetry`。安装命令如下：\n",
    "\n",
    "```bash\n",
    "    pip install poetry\n",
    "```"
   ]
  },
  {
   "cell_type": "markdown",
   "metadata": {},
   "source": [
    "&emsp;&emsp;常用的Python包管理工具：\n",
    "- `pip`：通过 PyPI（Python Package Index）下载和安装包\n",
    "- `conda`： Anaconda 发行版中的包管理和环境管理工具，不仅可以管理 Python 包，还可以管理其他语言的包（如 R、Ruby 等）。\n",
    "- `poetry`：现代的 Python 包管理工具，旨在简化依赖管理和项目构建，提供了更高级的功能，如依赖解析、版本管理和项目打包。使用 pyproject.toml 文件来管理项目的元数据和依赖。"
   ]
  },
  {
   "cell_type": "markdown",
   "metadata": {},
   "source": [
    "<div align=center><img src=\"https://muyu20241105.oss-cn-beijing.aliyuncs.com/images/202503051756010.png\" width=80%></div>"
   ]
  },
  {
   "cell_type": "markdown",
   "metadata": {},
   "source": [
    "&emsp;&emsp;安装完`poetry`后，我们就可以使用`poetry`来安装`Microsoft GraphRAG` 项目依赖了。安装命令如下：\n",
    "\n",
    "```bash\n",
    "    poetry install\n",
    "```"
   ]
  },
  {
   "cell_type": "markdown",
   "metadata": {},
   "source": [
    "<div align=center><img src=\"https://muyu20241105.oss-cn-beijing.aliyuncs.com/images/202503051756011.png\" width=80%></div>"
   ]
  },
  {
   "cell_type": "markdown",
   "metadata": {},
   "source": [
    "&emsp;&emsp;等待安装完成后，会显示最终的`graphrag`项目版本：\n"
   ]
  },
  {
   "cell_type": "markdown",
   "metadata": {},
   "source": [
    "<div align=center><img src=\"https://muyu20241105.oss-cn-beijing.aliyuncs.com/images/202503051756012.png\" width=80%></div>"
   ]
  },
  {
   "cell_type": "markdown",
   "metadata": {},
   "source": [
    "&emsp;&emsp;接下来，就可以通过`poetry`来启动`graphrag`项目，并且执行类似`GraphRAG`的`CLI`工具的命令。思路一样，但是具体执行的命令稍有区别。接下来我们就按照源码的执行流程，来实际操作一下`Microsoft GraphRAG` 的索引构建。"
   ]
  },
  {
   "cell_type": "markdown",
   "metadata": {},
   "source": [
    "&emsp;&emsp;同时，在实践`Microsoft GraphRAG` 的源码启动的过程中，我们将通过具体的源码来为大家详细的介绍`Microsoft GraphRAG`的内部实现原理。"
   ]
  },
  {
   "cell_type": "markdown",
   "metadata": {},
   "source": [
    "## 4.3 初始化配置文件"
   ]
  },
  {
   "cell_type": "markdown",
   "metadata": {},
   "source": [
    "&emsp;&emsp;`Microsoft GraphRAG` 的`CLI`工具是通过`graphrag init --root ./`命令来初始化配置文件的。在源码启动的过程中，我们同样需要初始化配置文件。但执行的命令稍有不同，命令如下所示：\n",
    "\n",
    "```bash\n",
    "    poetry run poe init --root ./\n",
    "```"
   ]
  },
  {
   "cell_type": "markdown",
   "metadata": {},
   "source": [
    "<div align=center><img src=\"https://muyu20241105.oss-cn-beijing.aliyuncs.com/images/202503051817455.png\" width=80%></div>"
   ]
  },
  {
   "cell_type": "markdown",
   "metadata": {},
   "source": [
    "&emsp;&emsp;这里的报错可以忽略，主要是转义字符的问题。不影响正常使用。初始化完成后，其右侧就会出现大家比较熟悉的`.env`文件和`settings.yaml`文件。"
   ]
  },
  {
   "cell_type": "markdown",
   "metadata": {},
   "source": [
    "<div align=center><img src=\"https://muyu20241105.oss-cn-beijing.aliyuncs.com/images/202503051822107.png\" width=80%></div>"
   ]
  },
  {
   "cell_type": "markdown",
   "metadata": {},
   "source": [
    "&emsp;&emsp;这里关注一下源码，其思路非常简单，就是当执行初始化命令后，手动创建`.env`文件和`settings.yaml`文件及`prompts`文件夹，然后把程序中预先定义好的内容写入进去。其源码位置如下："
   ]
  },
  {
   "cell_type": "markdown",
   "metadata": {},
   "source": [
    "<div align=center><img src=\"https://muyu20241105.oss-cn-beijing.aliyuncs.com/images/202503051824128.png\" width=80%></div>"
   ]
  },
  {
   "cell_type": "markdown",
   "metadata": {},
   "source": [
    "&emsp;&emsp;其中代码中的`INIT_DOTENV`变量就是`.env` 和 `settings.yaml`文件的初始化内容。其定义的源码存放位置如下："
   ]
  },
  {
   "cell_type": "markdown",
   "metadata": {},
   "source": [
    "<div align=center><img src=\"https://muyu20241105.oss-cn-beijing.aliyuncs.com/images/202503051827329.png\" width=80%></div>"
   ]
  },
  {
   "cell_type": "markdown",
   "metadata": {},
   "source": [
    "&emsp;&emsp;至此，大家就能够非常清楚的知道`Microsoft GraphRAG` 的 `CLI`工具的初始化命令其实也是通过源码来执行的，并且执行的逻辑正如上述代码所示。"
   ]
  },
  {
   "cell_type": "markdown",
   "metadata": {},
   "source": [
    "## 4.4 配置文件基本参数"
   ]
  },
  {
   "cell_type": "markdown",
   "metadata": {},
   "source": [
    "&emsp;&emsp;初始化完成后，接下来我们可以按照与`CLI`工具一样的配置方法来填写必要的配置参数。回顾一下必备的配置参数，具体如下："
   ]
  },
  {
   "cell_type": "markdown",
   "metadata": {},
   "source": [
    "<style>\n",
    ".center \n",
    "{\n",
    "  width: auto;\n",
    "  display: table;\n",
    "  margin-left: auto;\n",
    "  margin-right: auto;\n",
    "}\n",
    "</style>\n",
    "\n",
    "<p align=\"center\"><font face=\"黑体\" size=4>基础文本模型配置</font></p>\n",
    "<div class=\"center\">\n",
    "\n",
    "| 参数                | 描述                                               |\n",
    "|---------------------|----------------------------------------------------|\n",
    "| `api_base`          | 请求某个模型调用 `REST API` 的 `Endpoint`。 |\n",
    "| `api_key`           | 作为变量，引用 `.env` 文件中的 `GRAPHRA_API_KEY`。 |\n",
    "| `encodeing_model`   | 设置编码模型。  |\n",
    "| `model`             | 请求某个模型调用 `REST API`对应的模型名称。        |\n",
    "</div>"
   ]
  },
  {
   "cell_type": "markdown",
   "metadata": {},
   "source": [
    "<style>\n",
    ".center \n",
    "{\n",
    "  width: auto;\n",
    "  display: table;\n",
    "  margin-left: auto;\n",
    "  margin-right: auto;\n",
    "}\n",
    "</style>\n",
    "\n",
    "<p align=\"center\"><font face=\"黑体\" size=4>基础Embedding模型配置</font></p>\n",
    "<div class=\"center\">\n",
    "\n",
    "| 参数                | 描述                                               |\n",
    "|---------------------|----------------------------------------------------|\n",
    "| `api_base`          | 请求某个模型调用 `REST API` 的 `Endpoint`。 |\n",
    "| `api_key`           | 有效的请求 `API_KEY`。 |\n",
    "| `encodeing_model`   | 设置编码模型。  |\n",
    "| `model`             | 请求某个模型调用 `REST API`对应的模型名称。        |\n",
    "<div class=\"center\">\n",
    "</div>"
   ]
  },
  {
   "cell_type": "markdown",
   "metadata": {},
   "source": [
    "&emsp;&emsp;本次我们全部以`ollama`启动的本地模型为例（包含 对话模型和Embedding模型），因此配置参数如下："
   ]
  },
  {
   "cell_type": "markdown",
   "metadata": {},
   "source": [
    "- **.env**：因为不涉及`API_KEY`认证，所以这里可以随便填写，但是这个参数是必须存在的。即："
   ]
  },
  {
   "cell_type": "markdown",
   "metadata": {},
   "source": [
    "<div align=center><img src=\"https://muyu20241105.oss-cn-beijing.aliyuncs.com/images/202503051844672.png\" width=80%></div>"
   ]
  },
  {
   "cell_type": "markdown",
   "metadata": {},
   "source": [
    "- **settings.yaml**：需要修改 chat_model 和 embedding_model 的配置参数为 `ollama` 启动的模型名称及外放的`Endpoint`。"
   ]
  },
  {
   "cell_type": "markdown",
   "metadata": {},
   "source": [
    "<div align=center><img src=\"https://muyu20241105.oss-cn-beijing.aliyuncs.com/images/202503051844673.png\" width=80%></div>"
   ]
  },
  {
   "cell_type": "markdown",
   "metadata": {},
   "source": [
    "&emsp;&emsp;修改完成后，同样来进行数据集的准备。注意：如果和课程中一样，使用`Ollama`启动的本地模型，那么需要保证`Ollama` 的模型是正常启动的，并且正确地根据实际的情况修改`api_base`指向的`Endpoint`。比如下图中通过`ollama serve` 启动`Ollama`服务："
   ]
  },
  {
   "cell_type": "markdown",
   "metadata": {},
   "source": [
    "<div align=center><img src=\"https://muyu20241105.oss-cn-beijing.aliyuncs.com/images/202503061040745.png\" width=80%></div>"
   ]
  },
  {
   "cell_type": "markdown",
   "metadata": {},
   "source": [
    "## 4.5 数据准备"
   ]
  },
  {
   "cell_type": "markdown",
   "metadata": {},
   "source": [
    "&emsp;&emsp;在实践`Microsoft GraphRAG` 的 `CLI` 工具时，我们强调过目前仅支持`.txt` 和 `.csv` 两种格式的数据文件，这里的处理逻辑在源码中的位置如下："
   ]
  },
  {
   "cell_type": "markdown",
   "metadata": {},
   "source": [
    "<div align=center><img src=\"https://muyu20241105.oss-cn-beijing.aliyuncs.com/images/202503051854256.png\" width=80%></div>"
   ]
  },
  {
   "cell_type": "markdown",
   "metadata": {},
   "source": [
    "&emsp;&emsp;所以这里大家就能够清楚为什么只能在`input`文件夹中放入`.txt` 和 `.csv` 两种格式的数据文件了。（因为根本没有集成其他格式的数据文件处理逻辑，自然，当我们需要处理其他格式的数据文件时，就需要在这个入口文件做文章了。我们后面会带着大家进行其他文件类型格式的实操。）"
   ]
  },
  {
   "cell_type": "markdown",
   "metadata": {},
   "source": [
    "&emsp;&emsp;了解到这里，我们就需要在当前的`graphrag`项目中，新建一个`input`文件夹，然后把需要处理的数据文件放入其中。这里我们依然先存放一个`technology_companies.txt`文件来进行流程的测试。注意：`input`文件夹需要与`graphrag`项目在同一级目录下。"
   ]
  },
  {
   "cell_type": "markdown",
   "metadata": {},
   "source": [
    "<div align=center><img src=\"https://muyu20241105.oss-cn-beijing.aliyuncs.com/images/202503051900635.png\" width=80%></div>"
   ]
  },
  {
   "cell_type": "markdown",
   "metadata": {},
   "source": [
    "## 4.6 执行索引构建\n",
    "\n",
    "&emsp;&emsp;在配置好了`.env`文件和`settings.yaml`文件后，同时又准备好了数据文件，接下来我们就可以执行索引的构建了。在源码环境下，同样不再使用`graphrag index --root ./`命令，而是通过`poetry run poe index`命令来执行索引的构建。执行命令如下：\n",
    "\n",
    "```bash\n",
    "    poetry run poe index --root ./\n",
    "```"
   ]
  },
  {
   "cell_type": "markdown",
   "metadata": {},
   "source": [
    "&emsp;&emsp;执行命令后，会看到`GraphRAG` 的索引构建流程开始执行，如图所示："
   ]
  },
  {
   "cell_type": "markdown",
   "metadata": {},
   "source": [
    "<div align=center><img src=\"https://muyu20241105.oss-cn-beijing.aliyuncs.com/images/202503061040746.png\" width=80%></div>"
   ]
  },
  {
   "cell_type": "markdown",
   "metadata": {},
   "source": [
    "&emsp;&emsp;执行命令后，会看到`GraphRAG` 的索引构建流程开始执行，此时耐心等待即可，直到看到`ALL Workflows Completed Successfully`的提示，即表示索引构建成功。"
   ]
  },
  {
   "cell_type": "markdown",
   "metadata": {},
   "source": [
    "<div align=center><img src=\"https://muyu20241105.oss-cn-beijing.aliyuncs.com/images/202503061042216.png\" width=80%></div>"
   ]
  },
  {
   "cell_type": "markdown",
   "metadata": {},
   "source": [
    "&emsp;&emsp;最后，在索引构建完成后，在项目的左侧目录栏就能看到`cache`、`logs`和`output`三个文件夹，分别存储了构建索引过程中的缓存文件、日志文件和输出文件。"
   ]
  },
  {
   "cell_type": "markdown",
   "metadata": {},
   "source": [
    "<div align=center><img src=\"https://muyu20241105.oss-cn-beijing.aliyuncs.com/images/202503061045485.png\" width=80%></div>"
   ]
  },
  {
   "cell_type": "markdown",
   "metadata": {},
   "source": [
    "&emsp;&emsp;至此，我们就完整的通过`Microsoft GraphRAG` 的源码方式完成了索引的构建，在这个过程中，大家能够清楚的看到的是经历了共计8个`Workflow`，每个`Workflow`都对应了`Microsoft GraphRAG` 的索引构建流程中的一个环节。"
   ]
  },
  {
   "cell_type": "markdown",
   "metadata": {},
   "source": [
    "<div align=center><img src=\"https://muyu20241105.oss-cn-beijing.aliyuncs.com/images/202503061050753.png\" width=80%></div>"
   ]
  },
  {
   "cell_type": "markdown",
   "metadata": {},
   "source": [
    "<div align=center><img src=\"https://muyu20241105.oss-cn-beijing.aliyuncs.com/images/202503061050754.png\" width=80%></div>"
   ]
  },
  {
   "cell_type": "markdown",
   "metadata": {},
   "source": [
    "&emsp;&emsp;因此，接下来的课程，我们就借助源码，详细的介绍每一个`Workflow`的实现细节，以及每个`Workflow`中都可以通过哪些高级配置参数来影响索引构建的流程。"
   ]
  }
 ],
 "metadata": {
  "kernelspec": {
   "display_name": "Python 3 (ipykernel)",
   "language": "python",
   "name": "python3"
  },
  "language_info": {
   "codemirror_mode": {
    "name": "ipython",
    "version": 3
   },
   "file_extension": ".py",
   "mimetype": "text/x-python",
   "name": "python",
   "nbconvert_exporter": "python",
   "pygments_lexer": "ipython3",
   "version": "3.12.7"
  }
 },
 "nbformat": 4,
 "nbformat_minor": 4
}
